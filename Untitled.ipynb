{
 "cells": [
  {
   "cell_type": "code",
   "execution_count": null,
   "metadata": {},
   "outputs": [],
   "source": [
    "## Exploring Bias in Population Standard Deviation Formula for Samples with Various Sample Sizes## Exploring Bias in Population Standard Deviation Formula for Samples with Various Sample Sizes"
   ]
  },
  {
   "cell_type": "markdown",
   "metadata": {},
   "source": [
    "# Additional resourses"
   ]
  },
  {
   "cell_type": "code",
   "execution_count": null,
   "metadata": {},
   "outputs": [],
   "source": [
    "sqrt(2,)"
   ]
  },
  {
   "cell_type": "markdown",
   "metadata": {},
   "source": [
    "##  Few other codes that i come across during my research I put those in the notebook to further look at them\n"
   ]
  },
  {
   "cell_type": "code",
   "execution_count": null,
   "metadata": {},
   "outputs": [],
   "source": [
    "# Additional resourses\n",
    "\n",
    "sqrt(2,)\n",
    "\n",
    "##  Few other codes that i come across during my research I put those in the notebook to further look at them\n"
   ]
  },
  {
   "cell_type": "code",
   "execution_count": null,
   "metadata": {},
   "outputs": [],
   "source": [
    "x = 2 * 10 ** 200\n",
    "\n",
    "r = x\n",
    "\n",
    "# test the difference point, point+1, point-1\n",
    "def test_diffs(x, r):\n",
    "    d0 = abs(x - r**2)\n",
    "    dm = abs(x - (r-1)**2)\n",
    "    dp = abs(x - (r+1)**2)\n",
    "    minimised = d0 <= dm and d0 <= dp\n",
    "    below_min = dp < dm\n",
    "    #print(minimised)\n",
    "    #print(below_min)\n",
    "    return minimised, below_min\n",
    "\n",
    "while True:\n",
    "    oldr = r\n",
    "    r = (r + x // r) // 2\n",
    "    \n",
    "    minimised, below_min = test_diffs(x, r)\n",
    "    if minimised:\n",
    "        break\n",
    "\n",
    "    if r == oldr:\n",
    "        if below_min:\n",
    "            r += 1\n",
    "        else:\n",
    "            r -= 1\n",
    "        minimised, _ = test_diffs(x, r)\n",
    "        if minimised:\n",
    "            break\n",
    "\n",
    "print(f'{r // 10**100}.{r % 10**100:0100d}')\n",
    "# source:https://stackoverflow.com/a/64278569"
   ]
  },
  {
   "cell_type": "code",
   "execution_count": null,
   "metadata": {},
   "outputs": [],
   "source": [
    "a=4142135623730950488016887242096980785696718753769480731766797379907324784621070388503875343276415727\n",
    "b=4142135623730950488016887242096980785696718753769480731766797379907324784621070388503875343276415727\n",
    "\n",
    "print(a==b)"
   ]
  },
  {
   "cell_type": "code",
   "execution_count": null,
   "metadata": {},
   "outputs": [],
   "source": [
    "def sqrt(number,digits_after_decimal=100):\n",
    "\n",
    "    original_number=number # the number \n",
    "    number=str(number) # change the number to string\n",
    "    list=[]\n",
    "    print(len(number))\n",
    "    for a in range(len(number)):\n",
    "        if number[a]=='.':\n",
    "            decimal_point_locaiton=a\n",
    "            break\n",
    "        if a==len(number)-1:\n",
    "            number+='.'\n",
    "            decimal_point_locaiton=a+1\n",
    "            \n",
    "    if decimal_point_locaiton/2!=round(decimal_point_locaiton/2):\n",
    "        number='0'+number\n",
    "        decimal_point_locaiton+=1\n",
    "    if len(number)/2!=round(len(number)/2):\n",
    "        number+='0'\n",
    "    number=number[:decimal_point_locaiton]+number[decimal_point_locaiton+1:]\n",
    "    decimal_point_ans=int((decimal_point_locaiton-2)/2)+1\n",
    "    for a in range(0,len(number),2):\n",
    "        if number[a]!='0':\n",
    "            list.append(eval(number[a:a+2]))\n",
    "        else:\n",
    "            try:\n",
    "                list.append(eval(number[a+1]))\n",
    "            except IndexError:\n",
    "                pass\n",
    "    p=0\n",
    "    c=list[0]\n",
    "    x=0\n",
    "    ans=''\n",
    "    for a in range(len(list)):\n",
    "        while c>=(20*p+x)*(x):\n",
    "            x+=1\n",
    "        y=(20*p+x-1)*(x-1)\n",
    "        p=p*10+x-1\n",
    "        ans+=str(x-1)\n",
    "        c-=y\n",
    "        try:\n",
    "            c=c*100+list[a+1]\n",
    "        except IndexError:\n",
    "            c=c*100\n",
    "    while c!=0:\n",
    "        x=0\n",
    "        while c>=(20*p+x)*(x):\n",
    "            x+=1\n",
    "        y=(20*p+x-1)*(x-1)\n",
    "        p=p*10+x-1\n",
    "        ans+=str(x-1)\n",
    "        c-=y\n",
    "        c=c*100\n",
    "        if len(ans)-decimal_point_ans>=digits_after_decimal:\n",
    "                break\n",
    "    ans=ans[:decimal_point_ans]+'.'+ans[decimal_point_ans:]\n",
    "\n",
    "    return ans\n",
    "#Source: https://stackoverflow.com/questions/5187664/generating-digits-of-square-root-of-2\n",
    "#source:https://stackoverflow.com/a/7003789"
   ]
  },
  {
   "cell_type": "code",
   "execution_count": null,
   "metadata": {},
   "outputs": [],
   "source": []
  }
 ],
 "metadata": {
  "kernelspec": {
   "display_name": "Python 3",
   "language": "python",
   "name": "python3"
  },
  "language_info": {
   "codemirror_mode": {
    "name": "ipython",
    "version": 3
   },
   "file_extension": ".py",
   "mimetype": "text/x-python",
   "name": "python",
   "nbconvert_exporter": "python",
   "pygments_lexer": "ipython3",
   "version": "3.8.3"
  }
 },
 "nbformat": 4,
 "nbformat_minor": 4
}
