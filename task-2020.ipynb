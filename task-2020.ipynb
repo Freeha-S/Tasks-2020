{
 "cells": [
  {
   "cell_type": "markdown",
   "metadata": {},
   "source": [
    "## Task 1\n",
    "Calculates and prints to the screen the square root of 2 to 100 decimal places. "
   ]
  },
  {
   "cell_type": "markdown",
   "metadata": {},
   "source": [
    "I start this task by looking at different squareroot algorithms \n",
    "First raise the number to power 1/2 to get the SquareRoot: "
   ]
  },
  {
   "cell_type": "code",
   "execution_count": 17,
   "metadata": {},
   "outputs": [],
   "source": [
    "def sqrt2():\n",
    "    root=2**(1/2)\n",
    "    return root\n"
   ]
  },
  {
   "cell_type": "code",
   "execution_count": 18,
   "metadata": {},
   "outputs": [
    {
     "data": {
      "text/plain": [
       "1.4142135623730951"
      ]
     },
     "execution_count": 18,
     "metadata": {},
     "output_type": "execute_result"
    }
   ],
   "source": [
    "sqrt2()"
   ]
  },
  {
   "cell_type": "markdown",
   "metadata": {},
   "source": [
    "Newton Method of Sqareroot:\n",
    "1. Take a reasonable guess (approximate root) for the square root.\n",
    "\n",
    "2. Add the approximate root with the original number divided by the approximate root and divide by 2.\n",
    "\n",
    " x_i := (x_i + n / x_i) / 2\n",
    "\n",
    "3. Continue step 2 until the difference in the approximate root along the iterations is less than the desired value (or precision value).\n",
    "4. The approximate root is the square root we want.\n",
    "\n",
    "Reference:https://medium.com/@surajregmi/how-to-calculate-the-square-root-of-a-number-newton-raphson-method-f8007714f64#:~:text=Algorithm,root%20and%20divide%20by%202.&text=Continue%20step%202%20until%20the,value%20(or%20precision%20value)."
   ]
  },
  {
   "cell_type": "code",
   "execution_count": 13,
   "metadata": {},
   "outputs": [],
   "source": [
    "def sqrt(x):\n",
    "    root = x\n",
    "    precision = 10 ** (-10)\n",
    "    print(precision)\n",
    "    while abs(x - root * root) > precision:\n",
    "        root = (root + x / root) / 2\n",
    "        \n",
    "    return root\n",
    "    "
   ]
  },
  {
   "cell_type": "code",
   "execution_count": 14,
   "metadata": {},
   "outputs": [
    {
     "name": "stdout",
     "output_type": "stream",
     "text": [
      "1e-10\n"
     ]
    },
    {
     "data": {
      "text/plain": [
       "1.4142135623746899"
      ]
     },
     "execution_count": 14,
     "metadata": {},
     "output_type": "execute_result"
    }
   ],
   "source": [
    "sqrt(2)"
   ]
  },
  {
   "cell_type": "markdown",
   "metadata": {},
   "source": [
    "Babylonian method for square root\n",
    "\n",
    "Algorithm:\n",
    "This method can be derived from (but predates) Newton–Raphson method.\n",
    "\n",
    "\n",
    "1 Start with an arbitrary positive start value x (the closer to the \n",
    "   root, the better).\n",
    "2 Initialize y = 1.\n",
    "3. Do following until desired approximation is achieved.\n",
    "  a) Get the next approximation for root using average of x and y\n",
    "  b) Set y = n/x\n",
    "Ref: https://www.geeksforgeeks.org/square-root-of-a-perfect-square/"
   ]
  },
  {
   "cell_type": "code",
   "execution_count": 25,
   "metadata": {},
   "outputs": [],
   "source": [
    "# Returns the square root of n. \n",
    "def squareRoot(n): \n",
    "  \n",
    "    # We are using n itself as \n",
    "    # initial approximation This \n",
    "    # can definitely be improved  \n",
    "        x = n \n",
    "        y = 1\n",
    "          \n",
    "        # e decides the accuracy level \n",
    "        e = 0.000001\n",
    "        while(x - y > e): \n",
    "      \n",
    "            x = (x + y)/2\n",
    "            y = n / x \n",
    "      \n",
    "        return x "
   ]
  },
  {
   "cell_type": "code",
   "execution_count": 26,
   "metadata": {},
   "outputs": [
    {
     "data": {
      "text/plain": [
       "1.4142135623746899"
      ]
     },
     "execution_count": 26,
     "metadata": {},
     "output_type": "execute_result"
    }
   ],
   "source": [
    "squareRoot(2)"
   ]
  },
  {
   "cell_type": "code",
   "execution_count": null,
   "metadata": {},
   "outputs": [],
   "source": []
  }
 ],
 "metadata": {
  "kernelspec": {
   "display_name": "Python 3",
   "language": "python",
   "name": "python3"
  },
  "language_info": {
   "codemirror_mode": {
    "name": "ipython",
    "version": 3
   },
   "file_extension": ".py",
   "mimetype": "text/x-python",
   "name": "python",
   "nbconvert_exporter": "python",
   "pygments_lexer": "ipython3",
   "version": "3.8.3"
  }
 },
 "nbformat": 4,
 "nbformat_minor": 4
}
